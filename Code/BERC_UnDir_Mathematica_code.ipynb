{
 "cells": [
  {
   "cell_type": "markdown",
   "id": "28883880",
   "metadata": {},
   "source": [
    "## Mathematica code to calculate Non-normalized Bakry-Emery-Ricci Curvature"
   ]
  },
  {
   "cell_type": "code",
   "execution_count": 1,
   "id": "f915dbca",
   "metadata": {},
   "outputs": [],
   "source": [
    "(*------------------------------------------------------------------------------------------------------------------------*)\n",
    "(* Function \"BERCurvature\" calculates Bakry-Emery curvature for Undirected and Unweighted networks from a given edgelist\n",
    "Modified version of the code provided in the following url: https://sites.google.com/view/florentin-muench/graph-curvature?authuser=0 *)\n",
    "(*------------------------------------------------------------------------------------------------------------------------*)\n",
    "\n",
    "(* Creates Laplacian of the network from a given adjacency matrix*)\n",
    "AdjToLaplace[A_] := A - DiagonalMatrix[A.SparseArray[Table[1,Length[A]]]];\n",
    "\n",
    "BERCurvature[EdgeList_] := Module[{BERCurv},\n",
    "    (* Creates graph from the edgelist*)\n",
    "    graph = Graph[UndirectedEdge @@@ EdgeList];\n",
    "    Print[graph];\n",
    "    (* Creates adjacency matrix from the graph*)\n",
    "    adjacencyMatrix = AdjacencyMatrix[graph];\n",
    "    \n",
    "    (* Creates nodelist from the edgelist*)\n",
    "    nodeList = VertexList[graph];\n",
    "    \n",
    "    (* Call the function \"AdjToLaplace\" *)\n",
    "    L = AdjToLaplace[SparseArray[Normal[adjacencyMatrix]]];\n",
    "    (* Non-zero positions for pairs with shortest path length = 2 *)\n",
    "    L2=L.L;\n",
    "\n",
    "    (* Removes all the selfloops*)        \n",
    "    A=SparseArray[L-DiagonalMatrix[Diagonal[L]]]; \n",
    "    VV=Length[L];\n",
    "\n",
    "    (* Store the nodes with shortest path length <= 2 *)\n",
    "    b2all=Table[Flatten[L2[[k]][\"NonzeroPositions\"]],{k,VV}];\n",
    "\n",
    "    (* Store the neighbouring nodes *)\n",
    "    b1=Table[Flatten[A[[k]][\"NonzeroPositions\"]],{k,VV}];\n",
    "        \n",
    "    (* Consider the nodes with shortest path length = 2 *)\n",
    "    b2=Table[Complement[b2all[[k]],b1[[k]],{k}],{k,VV}];\n",
    "\n",
    "    (* 3-D sparse array with diagonal = 1 *)\n",
    "    fg=SparseArray[Table[{i,i,i}->1,{i,VV}]];\n",
    "\n",
    "    (* transposes a 3-D matrix 'ten' by permuting its dimensions 2 and 3 *)\n",
    "    T[ten_]:=TensorTranspose[ten,{1,3,2}];\n",
    "\n",
    "    (* Construction of the Gamma operator *)\n",
    "    Gam=(L.fg - fg.L - T[fg.L]); \n",
    "\n",
    "    (* Construction of the Gamma 2 operator *)\n",
    "    Gam2=(L.Gam - Gam.L  - T[Gam.L])/2; \n",
    "\n",
    "    inv := Compile[{{x, _Real}},If[x!=0,1/x,0]]; \n",
    "    (* Gives Reciprocal of x *)\n",
    "    Inv[x_]:=Map[inv,x,{2}] ;   \n",
    "\n",
    "    (* Construct a matrix with neighbours of the nodes *)\n",
    "    Q[k_,b1_,b2_,G2_]:=If[b2=={},G2[[b1,b1]],G2[[b1,b1]]-G2[[b1,b2]].Inv[G2[[b2,b2]]] . G2[[b2,b1]]];\n",
    "    (* Returns the curvature (minimum eigenvalue of ) of the node k *)\n",
    "    Ricc[k_]:=If[b1[[k]]=={},0,Min[Eigenvalues[{Q[k,b1[[k]],b2[[k]],Gam2[[k]]],Gam[[k]][[b1[[k]],b1[[k]]]]}]]];\n",
    "\n",
    "    (*Ric gives the list of the Bakry Emery curvature for every node*)\n",
    "    Ric=Table[Ricc[k],{k,VV}];\n",
    "    BERCurv=Transpose[{nodeList, Ric}];\n",
    "    BERCurv\n",
    "    ]"
   ]
  },
  {
   "cell_type": "markdown",
   "id": "66f60c11",
   "metadata": {},
   "source": [
    "### Calculates Bakry-Emery curvature for model networks"
   ]
  },
  {
   "cell_type": "code",
   "execution_count": 159,
   "id": "b8040c52",
   "metadata": {
    "scrolled": true
   },
   "outputs": [
    {
     "name": "stdout",
     "output_type": "stream",
     "text": [
      "Graph[<1000>, <3000>]\r\n"
     ]
    }
   ],
   "source": [
    "model = \"BA\";\n",
    "parameter = \"1000_3\";\n",
    "i = 1;\n",
    "\n",
    "filepath = \"../Data/Model_Networks/\"<> ToString[model] <>\"/\"<> ToString[parameter] <>\"/\"<> ToString[model] <>\"_edge_seed_\"<> ToString[i] <>\".txt\"; \n",
    "edgeList = Import[filepath, \"Table\"];\n",
    "\n",
    "(* Call the function \"BERCurvature\" *)\n",
    "BERC = BERCurvature[edgeList];\n",
    "\n",
    "path = \"../Data/Model_Networks/\"<> ToString[model] <>\"/\"<> ToString[parameter] <>\"/BakryEmery\";\n",
    "If[! DirectoryQ[path],\n",
    "  CreateDirectory[path]];\n",
    "  \n",
    "(* Save the BERC values in a .txt file *)\n",
    "Export[\"../Data/Model_Networks/\"<> ToString[model] <>\"/\"<> ToString[parameter] <>\"/BakryEmery/\"<> ToString[model] <>\"_node_seed_\"<> ToString[i] <>\".txt\", BERC,\"Table\"]; "
   ]
  },
  {
   "cell_type": "markdown",
   "id": "92378735",
   "metadata": {},
   "source": [
    "### Calculates Bakry-Emery curvature for real-world networks"
   ]
  },
  {
   "cell_type": "code",
   "execution_count": null,
   "id": "1627f6e3",
   "metadata": {},
   "outputs": [],
   "source": [
    "filepath = \"../Data/Real_Networks/ArenasEmail/ArenasEmail_Edge.txt\";\n",
    "edgeList = Import[filepath, \"Table\"];\n",
    "BERC = BERCurvature[edgeList];\n",
    "\n",
    "(* Save the BERC values in a .txt file *)\n",
    "Export[\"../Data/Real_Networks/ArenasEmail2/ArenasEmail_BakryEmery_node.txt\",  BERC,\"Table\"]; "
   ]
  }
 ],
 "metadata": {
  "kernelspec": {
   "display_name": "Wolfram Language 13.3",
   "language": "Wolfram Language",
   "name": "wolframlanguage13.3"
  },
  "language_info": {
   "codemirror_mode": "mathematica",
   "file_extension": ".m",
   "mimetype": "application/vnd.wolfram.m",
   "name": "Wolfram Language",
   "pygments_lexer": "mathematica",
   "version": "12.0"
  }
 },
 "nbformat": 4,
 "nbformat_minor": 5
}
