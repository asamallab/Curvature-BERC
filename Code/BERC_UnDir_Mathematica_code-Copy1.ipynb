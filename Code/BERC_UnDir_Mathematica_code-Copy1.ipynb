{
 "cells": [
  {
   "cell_type": "markdown",
   "id": "28883880",
   "metadata": {},
   "source": [
    "## Mathematica code to calculate Non-normalized Bakry-Emery-Ricci Curvature"
   ]
  },
  {
   "cell_type": "code",
   "execution_count": null,
   "id": "f915dbca",
   "metadata": {},
   "outputs": [],
   "source": [
    "(*------------------------------------------------------------------------------------------------------------------------*)\n",
    "(* Function \"BERCurvature\" calculates Bakry-Emery curvature for Undirected and Unweighted networks from a given edgelist\n",
    "Modified version of the code provided in the following url: https://sites.google.com/view/florentin-muench/graph-curvature?authuser=0 *)\n",
    "(*------------------------------------------------------------------------------------------------------------------------*)\n",
    "\n",
    "(* Creates Laplacian of the network from a given adjacency matrix*)\n",
    "AdjToLaplace[A_] := A - DiagonalMatrix[A.SparseArray[Table[1,Length[A]]]];\n",
    "\n",
    "BERCurvature[EdgeList_] := Module[{BERCurv},\n",
    "    (* Creates graph from the edgelist*)\n",
    "    graph = Graph[UndirectedEdge @@@ EdgeList];\n",
    "    Print[graph];\n",
    "    (* Creates adjacency matrix from the graph*)\n",
    "    adjacencyMatrix = AdjacencyMatrix[graph];\n",
    "    \n",
    "    (* Creates nodelist from the edgelist*)\n",
    "    nodeList = VertexList[graph];\n",
    "    \n",
    "    (* Call the function \"AdjToLaplace\" *)\n",
    "    L = AdjToLaplace[SparseArray[Normal[adjacencyMatrix]]];\n",
    "    (* Non-zero positions for pairs with shortest path length = 2 *)\n",
    "    L2=L.L;\n",
    "\n",
    "    (* Removes all the selfloops*)        \n",
    "    A=SparseArray[L-DiagonalMatrix[Diagonal[L]]]; \n",
    "    VV=Length[L];\n",
    "\n",
    "    (* Store the nodes with shortest path length <= 2 *)\n",
    "    b2all=Table[Flatten[L2[[k]][\"NonzeroPositions\"]],{k,VV}];\n",
    "\n",
    "    (* Store the neighbouring nodes *)\n",
    "    b1=Table[Flatten[A[[k]][\"NonzeroPositions\"]],{k,VV}];\n",
    "        \n",
    "    (* Consider the nodes with shortest path length = 2 *)\n",
    "    b2=Table[Complement[b2all[[k]],b1[[k]],{k}],{k,VV}];\n",
    "\n",
    "    (* 3-D sparse array with diagonal = 1 *)\n",
    "    fg=SparseArray[Table[{i,i,i}->1,{i,VV}]];\n",
    "\n",
    "    (* transposes a 3-D matrix 'ten' by permuting its dimensions 2 and 3 *)\n",
    "    T[ten_]:=TensorTranspose[ten,{1,3,2}];\n",
    "\n",
    "    (* Construction of the Gamma operator *)\n",
    "    Gam=(L.fg - fg.L - T[fg.L]); \n",
    "\n",
    "    (* Construction of the Gamma 2 operator *)\n",
    "    Gam2=(L.Gam - Gam.L  - T[Gam.L])/2; \n",
    "\n",
    "    inv := Compile[{{x, _Real}},If[x!=0,1/x,0]]; \n",
    "    (* Gives Reciprocal of x *)\n",
    "    Inv[x_]:=Map[inv,x,{2}] ;   \n",
    "\n",
    "    (* Construct a matrix with neighbours of the nodes *)\n",
    "    Q[k_,b1_,b2_,G2_]:=If[b2=={},G2[[b1,b1]],G2[[b1,b1]]-G2[[b1,b2]].Inv[G2[[b2,b2]]] . G2[[b2,b1]]];\n",
    "    (* Returns the curvature (minimum eigenvalue of ) of the node k *)\n",
    "    Ricc[k_]:=If[b1[[k]]=={},0,Min[Eigenvalues[{Q[k,b1[[k]],b2[[k]],Gam2[[k]]],Gam[[k]][[b1[[k]],b1[[k]]]]}]]];\n",
    "\n",
    "    (*Ric gives the list of the Bakry Emery curvature for every node*)\n",
    "    Ric=Table[Ricc[k],{k,VV}];\n",
    "    BERCurv=Transpose[{nodeList, Ric}];\n",
    "    BERCurv\n",
    "    ]"
   ]
  },
  {
   "cell_type": "markdown",
   "id": "66f60c11",
   "metadata": {},
   "source": [
    "### Calculates Bakry-Emery curvature for model networks"
   ]
  },
  {
   "cell_type": "code",
   "execution_count": 159,
   "id": "b8040c52",
   "metadata": {
    "scrolled": true
   },
   "outputs": [
    {
     "name": "stdout",
     "output_type": "stream",
     "text": [
      "Graph[<1000>, <3000>]\r\n"
     ]
    }
   ],
   "source": [
    "model = \"BA\";\n",
    "parameter = \"1000_3\";\n",
    "i = 1;\n",
    "\n",
    "filepath = \"../Data/Model_Networks/\"<> ToString[model] <>\"/\"<> ToString[parameter] <>\"/\"<> ToString[model] <>\"_edge_seed_\"<> ToString[i] <>\".txt\"; \n",
    "edgeList = Import[filepath, \"Table\"];\n",
    "\n",
    "(* Call the function \"BERCurvature\" *)\n",
    "BERC = BERCurvature[edgeList];\n",
    "\n",
    "path = \"../Data/Model_Networks/\"<> ToString[model] <>\"/\"<> ToString[parameter] <>\"/BakryEmery\";\n",
    "If[! DirectoryQ[path],\n",
    "  CreateDirectory[path]];\n",
    "  \n",
    "(* Save the BERC values in a .txt file \n",
    "Export[\"../Data/Model_Networks/\"<> ToString[model] <>\"/\"<> ToString[parameter] <>\"/BakryEmery/\"<> ToString[model] <>\"_node_seed_\"<> ToString[i] <>\".txt\", BERC,\"Table\"]; *)"
   ]
  },
  {
   "cell_type": "markdown",
   "id": "92378735",
   "metadata": {},
   "source": [
    "### Calculates Bakry-Emery curvature for real-world networks"
   ]
  },
  {
   "cell_type": "code",
   "execution_count": 17,
   "id": "12bf8ae5",
   "metadata": {},
   "outputs": [
    {
     "name": "stdout",
     "output_type": "stream",
     "text": [
      "Graph[<1133>, <5451>]\r\n"
     ]
    }
   ],
   "source": [
    "filepath = \"../Data/Real_Networks/ArenasEmail/ArenasEmail_Edge.txt\";\n",
    "edgeList = Import[filepath, \"Table\"];\n",
    "BERC = BERCurvature[edgeList];\n",
    "\n",
    "(* Save the BERC values in a .txt file \n",
    "Export[\"../Data/Real_Networks/ArenasEmail2/ArenasEmail_BakryEmery_node.txt\",  BERC,\"Table\"]; *)"
   ]
  },
  {
   "cell_type": "code",
   "execution_count": 1,
   "id": "75325f9d",
   "metadata": {},
   "outputs": [],
   "source": [
    "AdjToLaplace[A_] := A - DiagonalMatrix[A.SparseArray[Table[1,Length[A]]]];\n",
    "\n",
    "BERCurvature22[EdgeList_,W_] := Module[{BERCurv},\n",
    "    (* Creates graph from the edgelist*)\n",
    "    numColumns = Length[First[EdgeList]];\n",
    "    graph = Which[\n",
    "    W == \"Unweighted\", \n",
    "    Graph[UndirectedEdge @@@ EdgeList],\n",
    "    (* For weighted network, edgelist must contains three column: source target weight*)\n",
    "    W == \"Weighted\",\n",
    "    Which[\n",
    "    numColumns == 3,\n",
    "    Graph[UndirectedEdge @@@ EdgeList, \n",
    "    EdgeWeight -> Last /@ EdgeList, \n",
    "    VertexLabels -> \"Name\"],\n",
    "    True, \"Weights of the edges are not given\"\n",
    "    ],\n",
    "    True, \"W must be 'Weighted' or 'Unweighted'\"\n",
    "    ];\n",
    "    \n",
    "    Print[graph];\n",
    "    (* Creates adjacency matrix from the graph*)\n",
    "    adjacencyMatrix = AdjacencyMatrix[graph];\n",
    "    Print[\"adjacencyMatrix\"];\n",
    "    (* Creates nodelist from the edgelist*)\n",
    "    nodeList = VertexList[graph];\n",
    "    Print[\"nodeList\"];\n",
    "    (* Call the function \"AdjToLaplace\" *)\n",
    "    L = AdjToLaplace[SparseArray[Normal[adjacencyMatrix]]];\n",
    "    (* Non-zero positions for pairs with shortest path length = 2 *)\n",
    "    L2=L.L;\n",
    "    Print[\"l2\"];\n",
    "    (* Removes all the selfloops*)        \n",
    "    A=SparseArray[L-DiagonalMatrix[Diagonal[L]]]; \n",
    "    VV=Length[L];\n",
    "    print[VV];\n",
    "    (* Store the nodes with shortest path length <= 2 *)\n",
    "    b2all=Table[Flatten[L2[[k]][\"NonzeroPositions\"]],{k,VV}];\n",
    "    Print[\"b2all\"];\n",
    "    (* Store the neighbouring nodes *)\n",
    "    b1=Table[Flatten[A[[k]][\"NonzeroPositions\"]],{k,VV}];\n",
    "    Print[\"b1\"];  \n",
    "    (* Consider the nodes with shortest path length = 2 *)\n",
    "    b2=Table[Complement[b2all[[k]],b1[[k]],{k}],{k,VV}];\n",
    "    Print[\"b2\"];\n",
    "    (* 3-D sparse array with diagonal = 1 *)\n",
    "    fg=SparseArray[Table[{i,i,i}->1,{i,VV}]];\n",
    "    Print[\"fg\"];\n",
    "    (* transposes a 3-D matrix 'ten' by permuting its dimensions 2 and 3 *)\n",
    "    T[ten_]:=TensorTranspose[ten,{1,3,2}];\n",
    "\n",
    "    (* Construction of the Gamma operator *)\n",
    "    Gam=(L.fg - fg.L - T[fg.L]); \n",
    "    Print[\"gam\"];\n",
    "    (* Construction of the Gamma 2 operator *)\n",
    "    Gam2=(L.Gam - Gam.L  - T[Gam.L])/2; \n",
    "    Print[\"GAM2\"];\n",
    "    inv := Compile[{{x, _Real}},If[x!=0,1/x,0]]; \n",
    "    (* Gives Reciprocal of x *)\n",
    "    Inv[x_]:=Map[inv,x,{2}] ;   \n",
    "\n",
    "    (* Construct a matrix with neighbours of the nodes *)\n",
    "    Q[k_,b1_,b2_,G2_]:=If[b2=={},G2[[b1,b1]],G2[[b1,b1]]-G2[[b1,b2]].Inv[G2[[b2,b2]]] . G2[[b2,b1]]];\n",
    "    Print[\"Q\"];\n",
    "    (* Returns the curvature (minimum eigenvalue of ) of the node k *)\n",
    "    Ricc[k_]:=If[b1[[k]]=={},0,Min[Eigenvalues[{Q[k,b1[[k]],b2[[k]],Gam2[[k]]],Gam[[k]][[b1[[k]],b1[[k]]]]}]]];\n",
    "    Print[Ricc];\n",
    "    (*Ric gives the list of the Bakry Emery curvature for every node*)\n",
    "    Ric=Table[Ricc[k],{k,VV}];\n",
    "    Print[Ricc[10]];\n",
    "    BERCurv=Transpose[{nodeList, Ric}];\n",
    "    BERCurv\n",
    "    ]"
   ]
  },
  {
   "cell_type": "code",
   "execution_count": 3,
   "id": "64eac826",
   "metadata": {},
   "outputs": [
    {
     "name": "stdout",
     "output_type": "stream",
     "text": [
      "Graph[<1133>, <5451>]\n",
      "adjacencyMatrix\n",
      "nodeList\n",
      "l2\n",
      "b2all\n",
      "b1\n",
      "b2\n",
      "fg\n",
      "gam\n",
      "GAM2\n",
      "Q\n",
      "Ricc\n",
      "-14.6674\n"
     ]
    },
    {
     "data": {
      "text/html": [
       "<div><pre style=\"&#102;&#111;&#110;&#116;&#45;&#102;&#97;&#109;&#105;&#108;&#121;&#58;&#32;&#34;&#67;&#111;&#117;&#114;&#105;&#101;&#114;&#32;&#78;&#101;&#119;&#34;&#44;&#67;&#111;&#117;&#114;&#105;&#101;&#114;&#44;&#109;&#111;&#110;&#111;&#115;&#112;&#97;&#99;&#101;&#59;\">&#50;</pre></div>"
      ],
      "text/plain": [
       "2"
      ]
     },
     "execution_count": 5,
     "metadata": {
      "text/html": [],
      "text/plain": []
     },
     "output_type": "execute_result"
    }
   ],
   "source": [
    "filepath = \"../Data/Real_Networks/ArenasEmail/ArenasEmail_Edge.txt\"; \n",
    "edgeList = Import[filepath, \"Table\"];\n",
    "numColumns = Length[First[edgeList]]\n",
    "BERC = BERCurvature22[edgeList,\"Unweighted\"];\n",
    "Export[\"../../../../../ArenasEmail_BakryEmery_node.txt\",  BERC,\"Table\"];"
   ]
  },
  {
   "cell_type": "code",
   "execution_count": 8,
   "id": "c7fbf549",
   "metadata": {},
   "outputs": [
    {
     "name": "stdout",
     "output_type": "stream",
     "text": [
      "Graph[<200>, <19900>]\r\n"
     ]
    },
    {
     "data": {
      "text/html": [
       "<div><pre style=\"&#102;&#111;&#110;&#116;&#45;&#102;&#97;&#109;&#105;&#108;&#121;&#58;&#32;&#34;&#67;&#111;&#117;&#114;&#105;&#101;&#114;&#32;&#78;&#101;&#119;&#34;&#44;&#67;&#111;&#117;&#114;&#105;&#101;&#114;&#44;&#109;&#111;&#110;&#111;&#115;&#112;&#97;&#99;&#101;&#59;\">&#51;</pre></div>"
      ],
      "text/plain": [
       "3"
      ]
     },
     "execution_count": 10,
     "metadata": {
      "text/html": [],
      "text/plain": []
     },
     "output_type": "execute_result"
    }
   ],
   "source": [
    "filepath = \"../../../Brain_aging/Data/FCM/fcm_sub_32302.txt\";\n",
    "edgeList = Import[filepath, \"Table\"];\n",
    "numColumns = Length[First[edgeList]]\n",
    "BERC = BERCurvature22[edgeList,\"Unweighted\"];\n",
    "Export[\"../../../../../fcm_sub_32302_BakryEmery_node.txt\",  BERC,\"Table\"];"
   ]
  },
  {
   "cell_type": "code",
   "execution_count": null,
   "id": "8891979b",
   "metadata": {},
   "outputs": [
    {
     "name": "stdout",
     "output_type": "stream",
     "text": [
      "Graph[<200>, <19900>]\n",
      "adjacencyMatrix\n",
      "nodeList\n",
      "l2\n",
      "b2all\n",
      "b1\n",
      "b2\n",
      "fg\n",
      "gam\n",
      "GAM2\n",
      "Q\n",
      "Ricc\n"
     ]
    }
   ],
   "source": [
    "filepath = \"../../../Brain_aging/Data/FCM/fcm_sub_32302.txt\";\n",
    "edgeList = Import[filepath, \"Table\"];\n",
    "numColumns = Length[First[edgeList]];\n",
    "BERC = BERCurvature22[edgeList,\"Weighted\"];\n",
    "Print[\"BERC\"];\n",
    "Export[\"../../../../../fcm_sub_32302_BakryEmery_nodeW.txt\",  BERC,\"Table\"];\n",
    "Print[\"done\"];"
   ]
  },
  {
   "cell_type": "code",
   "execution_count": null,
   "id": "f95fcbda",
   "metadata": {},
   "outputs": [],
   "source": [
    "    graph = Which[\n",
    "    W == \"Unweighted\", \n",
    "    Graph[UndirectedEdge @@@ EdgeList],\n",
    "    W == \"Weighted\", \n",
    "    Graph[UndirectedEdge @@@ EdgeList, \n",
    "    EdgeWeight -> Last /@ EdgeList, \n",
    "    VertexLabels -> \"Name\"],\n",
    "    True, \"W must be 'Weighted' or 'Unweighted'\"\n",
    "    ];\n",
    "    numColumns = Length[First[EdgeList]];"
   ]
  }
 ],
 "metadata": {
  "kernelspec": {
   "display_name": "Wolfram Language 13.3",
   "language": "Wolfram Language",
   "name": "wolframlanguage13.3"
  },
  "language_info": {
   "codemirror_mode": "mathematica",
   "file_extension": ".m",
   "mimetype": "application/vnd.wolfram.m",
   "name": "Wolfram Language",
   "pygments_lexer": "mathematica",
   "version": "12.0"
  }
 },
 "nbformat": 4,
 "nbformat_minor": 5
}
